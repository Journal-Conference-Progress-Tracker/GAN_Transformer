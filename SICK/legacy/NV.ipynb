{
 "cells": [
  {
   "cell_type": "code",
   "execution_count": 6,
   "metadata": {},
   "outputs": [],
   "source": [
    "import os\n",
    "import numpy as np\n",
    "import pandas as pd\n",
    "import matplotlib.pyplot as plt\n",
    "from sklearn.feature_extraction.text import CountVectorizer\n",
    "from sklearn.naive_bayes import MultinomialNB\n",
    "from sklearn.metrics import classification_report, confusion_matrix, accuracy_score\n",
    "from sklearn.model_selection import train_test_split\n",
    "from sklearn.preprocessing import LabelEncoder"
   ]
  },
  {
   "cell_type": "code",
   "execution_count": 7,
   "metadata": {},
   "outputs": [
    {
     "name": "stdout",
     "output_type": "stream",
     "text": [
      "原始資料形狀: (9840, 3)\n",
      "訓練集形狀: (7872, 5) 測試集形狀: (1968, 5)\n"
     ]
    }
   ],
   "source": [
    "df = pd.read_csv(\"SICK.txt\", sep=\"\\t\")\n",
    "# 只保留所需欄位: sentence_A, sentence_B, entailment_label\n",
    "df = df[[\"sentence_A\", \"sentence_B\", \"entailment_label\"]]\n",
    "print(\"原始資料形狀:\", df.shape)\n",
    "\n",
    "df[\"entailment_label\"] = df[\"entailment_label\"].str.lower()\n",
    "label2id = {\"contradiction\": 0, \"entailment\": 1, \"neutral\": 2}\n",
    "df[\"label_id\"] = df[\"entailment_label\"].map(label2id)\n",
    "\n",
    "df[\"text\"] = df[\"sentence_A\"] + \" \" + df[\"sentence_B\"]\n",
    "\n",
    "# 使用 stratified split 分成 80% 訓練 / 20% 測試\n",
    "train_df, test_df = train_test_split(\n",
    "    df, \n",
    "    test_size=0.2, \n",
    "    stratify=df[\"label_id\"], \n",
    "    random_state=42\n",
    ")\n",
    "print(\"訓練集形狀:\", train_df.shape, \"測試集形狀:\", test_df.shape)\n",
    "\n",
    "\n",
    "vectorizer = CountVectorizer()\n",
    "\n",
    "# 先在完整訓練集上 fit，再 transform\n",
    "vectorizer.fit(train_df[\"text\"])\n",
    "X_test_full = vectorizer.transform(test_df[\"text\"]).toarray()\n",
    "y_test = test_df[\"label_id\"].values"
   ]
  },
  {
   "cell_type": "code",
   "execution_count": null,
   "metadata": {},
   "outputs": [
    {
     "name": "stdout",
     "output_type": "stream",
     "text": [
      "\n",
      "使用訓練資料數量: 20 筆\n"
     ]
    },
    {
     "ename": "NameError",
     "evalue": "name 'X_train_full' is not defined",
     "output_type": "error",
     "traceback": [
      "\u001b[0;31m---------------------------------------------------------------------------\u001b[0m",
      "\u001b[0;31mNameError\u001b[0m                                 Traceback (most recent call last)",
      "Cell \u001b[0;32mIn[8], line 7\u001b[0m\n\u001b[1;32m      5\u001b[0m \u001b[38;5;28mprint\u001b[39m(\u001b[38;5;124mf\u001b[39m\u001b[38;5;124m\"\u001b[39m\u001b[38;5;130;01m\\n\u001b[39;00m\u001b[38;5;124m使用訓練資料數量: \u001b[39m\u001b[38;5;132;01m{\u001b[39;00msize\u001b[38;5;132;01m}\u001b[39;00m\u001b[38;5;124m 筆\u001b[39m\u001b[38;5;124m\"\u001b[39m)\n\u001b[1;32m      6\u001b[0m \u001b[38;5;66;03m# 取前 size 筆資料\u001b[39;00m\n\u001b[0;32m----> 7\u001b[0m X_train_subset \u001b[38;5;241m=\u001b[39m \u001b[43mX_train_full\u001b[49m[:size]\n\u001b[1;32m      8\u001b[0m y_train_subset \u001b[38;5;241m=\u001b[39m y_train_full[:size]\n\u001b[1;32m     10\u001b[0m \u001b[38;5;66;03m# 建立並訓練 Naive Bayes 模型\u001b[39;00m\n",
      "\u001b[0;31mNameError\u001b[0m: name 'X_train_full' is not defined"
     ]
    }
   ],
   "source": [
    "fractions = [1.0, 0.5, 0.25, 0.1]\n",
    "\n",
    "for frac in fractions:\n",
    "    # 抽取對應比例的訓練資料\n",
    "    num_samples = int(len(train_df) * frac)\n",
    "    train_subset = train_df.iloc[:num_samples]\n",
    "    \n",
    "    # Vectorize\n",
    "    X_train_subset = vectorizer.transform(train_subset[\"text\"]).toarray()\n",
    "    y_train_subset = train_subset[\"label_id\"].values\n",
    "    \n",
    "    print(f\"\\n[比例 {frac}] 訓練資料筆數: {num_samples}\")\n",
    "    \n",
    "    # 建立並訓練 Naive Bayes 模型\n",
    "    model = MultinomialNB()\n",
    "    model.fit(X_train_subset, y_train_subset)\n",
    "    \n",
    "    # 在測試集上做預測\n",
    "    y_pred = model.predict(X_test_full)\n",
    "    \n",
    "    # 計算 accuracy\n",
    "    acc = accuracy_score(y_test, y_pred)\n",
    "    print(f\"Test Accuracy: {acc:.4f}\")\n",
    "    \n",
    "    # 輸出分類報告\n",
    "    target_names = [\"contradiction\", \"entailment\", \"neutral\"]\n",
    "    print(classification_report(y_test, y_pred, target_names=target_names))\n",
    "    \n",
    "    # 混淆矩陣\n",
    "    cm = confusion_matrix(y_test, y_pred)\n",
    "    print(\"Confusion Matrix:\")\n",
    "    print(cm)\n",
    "    \n",
    "    import seaborn as sns\n",
    "    plt.figure(figsize=(6, 6))\n",
    "    sns.heatmap(cm, annot=True, fmt='d', cmap='Blues',\n",
    "                xticklabels=target_names, yticklabels=target_names)\n",
    "    plt.title(f\"Confusion Matrix (Train Subset {int(frac*100)}%)\")\n",
    "    plt.ylabel(\"True label\")\n",
    "    plt.xlabel(\"Predicted label\")\n",
    "    plt.tight_layout()\n",
    "    plt.show()\n"
   ]
  }
 ],
 "metadata": {
  "kernelspec": {
   "display_name": "Torch",
   "language": "python",
   "name": "python3"
  },
  "language_info": {
   "codemirror_mode": {
    "name": "ipython",
    "version": 3
   },
   "file_extension": ".py",
   "mimetype": "text/x-python",
   "name": "python",
   "nbconvert_exporter": "python",
   "pygments_lexer": "ipython3",
   "version": "3.10.16"
  }
 },
 "nbformat": 4,
 "nbformat_minor": 2
}
